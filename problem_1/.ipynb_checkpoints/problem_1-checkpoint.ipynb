{
 "cells": [
  {
   "cell_type": "markdown",
   "id": "37acaa08-dbc8-4626-b9f6-0d8361fdabde",
   "metadata": {},
   "source": [
    "# Problem 1\n",
    "Write a bash script that takes a fasta file as an input and print out the average protein length in the file.\n",
    "Note: You can use E. coli MG1655 proteome file to test your script. The file can be downloaded from here:\n",
    "https://ftp.ncbi.nlm.nih.gov/genomes/archive/old_refseq/Bacteria/Escherichia_coli_K_12_substr__MG1655_uid57779/NC_000913.faa.\n",
    "Note:\n",
    "1. You must use only bash commands. No other programming language is allowed.\n",
    "2. You may need the following commands in bash to complete this task. wget, zcat, wc, tr, bc, and grep. You are not restricted to any of these commands. You can use any or all or any other bash commands in your script or command line."
   ]
  },
  {
   "cell_type": "code",
   "execution_count": 2,
   "id": "fad92042-81b9-467f-9f51-04454ed963ed",
   "metadata": {},
   "outputs": [
    {
     "name": "stdout",
     "output_type": "stream",
     "text": [
      "--2023-11-22 21:35:10--  https://ftp.ncbi.nlm.nih.gov/genomes/archive/old_refseq/Bacteria/Escherichia_coli_K_12_substr__MG1655_uid57779/NC_000913.faa\n",
      "Resolving ftp.ncbi.nlm.nih.gov (ftp.ncbi.nlm.nih.gov)... 130.14.250.10, 130.14.250.11, 2607:f220:41e:250::13, ...\n",
      "Connecting to ftp.ncbi.nlm.nih.gov (ftp.ncbi.nlm.nih.gov)|130.14.250.10|:443... connected.\n",
      "HTTP request sent, awaiting response... 200 OK\n",
      "Length: 1822571 (1.7M)\n",
      "Saving to: ‘NC_000913.faa’\n",
      "\n",
      "NC_000913.faa       100%[===================>]   1.74M  7.40MB/s    in 0.2s    \n",
      "\n",
      "2023-11-22 21:35:11 (7.40 MB/s) - ‘NC_000913.faa’ saved [1822571/1822571]\n",
      "\n"
     ]
    }
   ],
   "source": [
    "wget https://ftp.ncbi.nlm.nih.gov/genomes/archive/old_refseq/Bacteria/Escherichia_coli_K_12_substr__MG1655_uid57779/NC_000913.faa"
   ]
  },
  {
   "cell_type": "code",
   "execution_count": 3,
   "id": "66ecd27f-27df-429f-a862-efaa71d0a433",
   "metadata": {},
   "outputs": [
    {
     "name": "stdout",
     "output_type": "stream",
     "text": [
      "\u001b[0m\u001b[01;32mNC_000913.faa\u001b[0m  \u001b[01;32mUntitled.ipynb\u001b[0m\n"
     ]
    }
   ],
   "source": [
    "ls"
   ]
  },
  {
   "cell_type": "code",
   "execution_count": 4,
   "id": "33b29c3a-05a7-4022-9c20-e25b59cc15b4",
   "metadata": {},
   "outputs": [
    {
     "name": "stdout",
     "output_type": "stream",
     "text": [
      ">gi|16127995|ref|NP_414542.1| thr operon leader peptide [Escherichia coli str. K-12 substr. MG1655]\n",
      "MKRISTTITTTITITTGNGAG\n",
      ">gi|16127996|ref|NP_414543.1| Bifunctional aspartokinase/homoserine dehydrogenase 1 [Escherichia coli str. K-12 substr. MG1655]\n",
      "MRVLKFGGTSVANAERFLRVADILESNARQGQVATVLSAPAKITNHLVAMIEKTISGQDALPNISDAERI\n",
      "FAELLTGLAAAQPGFPLAQLKTFVDQEFAQIKHVLHGISLLGQCPDSINAALICRGEKMSIAIMAGVLEA\n",
      "RGHNVTVIDPVEKLLAVGHYLESTVDIAESTRRIAASRIPADHMVLMAGFTAGNEKGELVVLGRNGSDYS\n",
      "AAVLAACLRADCCEIWTDVDGVYTCDPRQVPDARLLKSMSYQEAMELSYFGAKVLHPRTITPIAQFQIPC\n",
      "LIKNTGNPQAPGTLIGASRDEDELPVKGISNLNNMAMFSVSGPGMKGMVGMAARVFAAMSRARISVVLIT\n",
      "QSSSEYSISFCVPQSDCVRAERAMQEEFYLELKEGLLEPLAVTERLAIISVVGDGMRTLRGISAKFFAAL\n",
      "ARANINIVAIAQGSSERSISVVVNNDDATTGVRVTHQMLFNTDQVIEVFVIGVGGVGGALLEQLKRQQSW\n",
      "cat: write error: Broken pipe\n"
     ]
    }
   ],
   "source": [
    "cat NC_000913.faa | head"
   ]
  },
  {
   "cell_type": "code",
   "execution_count": 21,
   "id": "46354987-0332-4af1-8b07-d6070338f2b5",
   "metadata": {},
   "outputs": [],
   "source": [
    "# number of amino acids = (remove header lines | delete line spacings | count chars)\n",
    "n_aa=$(cat NC_000913.faa | grep -v '^>' | tr -d '\\n' | wc -c)"
   ]
  },
  {
   "cell_type": "code",
   "execution_count": 23,
   "id": "1c8082f8-e147-4815-a5d1-4c96373052f3",
   "metadata": {},
   "outputs": [],
   "source": [
    "# number of sequences = (count occurances of lines starting with \">\")\n",
    "n_seq=$(cat NC_000913.faa | grep -c '^>')"
   ]
  },
  {
   "cell_type": "code",
   "execution_count": 42,
   "id": "980f61e1-ad4e-4279-b588-b5f3d41caf52",
   "metadata": {},
   "outputs": [
    {
     "name": "stdout",
     "output_type": "stream",
     "text": [
      "316\n"
     ]
    }
   ],
   "source": [
    "echo \"$n_aa / $n_seq\" | bc"
   ]
  },
  {
   "cell_type": "code",
   "execution_count": 48,
   "id": "fa2489eb-ce1d-4992-87dc-b99274e04a3a",
   "metadata": {},
   "outputs": [
    {
     "name": "stdout",
     "output_type": "stream",
     "text": [
      "The average protein length is:\n",
      "316 amino acids\n"
     ]
    }
   ],
   "source": [
    "bash avg_pro_len.sh NC_000913.faa"
   ]
  },
  {
   "cell_type": "markdown",
   "id": "7bab1b9b-5676-4ffe-a943-e3bffcfba962",
   "metadata": {},
   "source": [
    "**Re-test bash script with new faa file**"
   ]
  },
  {
   "cell_type": "code",
   "execution_count": 51,
   "id": "751d8ab1-f734-4efd-9608-234da9f95cc2",
   "metadata": {},
   "outputs": [
    {
     "name": "stdout",
     "output_type": "stream",
     "text": [
      "--2023-11-22 22:19:45--  https://ftp.ncbi.nlm.nih.gov/genomes/archive/old_refseq/Bacteria/Borrelia_burgdorferi_B31_uid57581/NC_000948.faa\n",
      "Resolving ftp.ncbi.nlm.nih.gov (ftp.ncbi.nlm.nih.gov)... 130.14.250.11, 130.14.250.10, 2607:f220:41e:250::7, ...\n",
      "Connecting to ftp.ncbi.nlm.nih.gov (ftp.ncbi.nlm.nih.gov)|130.14.250.11|:443... connected.\n",
      "HTTP request sent, awaiting response... 200 OK\n",
      "Length: 12660 (12K)\n",
      "Saving to: ‘NC_000948.faa’\n",
      "\n",
      "NC_000948.faa       100%[===================>]  12.36K  --.-KB/s    in 0.001s  \n",
      "\n",
      "2023-11-22 22:19:45 (23.8 MB/s) - ‘NC_000948.faa’ saved [12660/12660]\n",
      "\n"
     ]
    }
   ],
   "source": [
    "wget https://ftp.ncbi.nlm.nih.gov/genomes/archive/old_refseq/Bacteria/Borrelia_burgdorferi_B31_uid57581/NC_000948.faa"
   ]
  },
  {
   "cell_type": "code",
   "execution_count": 52,
   "id": "b5937179-5820-4e34-89ef-a21f6b704483",
   "metadata": {},
   "outputs": [
    {
     "name": "stdout",
     "output_type": "stream",
     "text": [
      "The average protein length is:\n",
      "224 amino acids\n"
     ]
    }
   ],
   "source": [
    "bash avg_pro_len.sh NC_000948.faa"
   ]
  }
 ],
 "metadata": {
  "kernelspec": {
   "display_name": "Bash",
   "language": "bash",
   "name": "bash"
  },
  "language_info": {
   "codemirror_mode": "shell",
   "file_extension": ".sh",
   "mimetype": "text/x-sh",
   "name": "bash"
  }
 },
 "nbformat": 4,
 "nbformat_minor": 5
}
